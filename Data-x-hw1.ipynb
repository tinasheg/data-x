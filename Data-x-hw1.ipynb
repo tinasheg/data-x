{
 "cells": [
  {
   "cell_type": "markdown",
   "metadata": {},
   "source": [
    "## Data-X IEOR 290: HW1\n",
    "### Tinashe Giyavha\n",
    "#### SID: 3032166606\n",
    "\n",
    "---"
   ]
  },
  {
   "cell_type": "markdown",
   "metadata": {},
   "source": [
    "## Problem 1 "
   ]
  },
  {
   "cell_type": "code",
   "execution_count": 1,
   "metadata": {
    "collapsed": true
   },
   "outputs": [],
   "source": [
    "a = []"
   ]
  },
  {
   "cell_type": "code",
   "execution_count": 2,
   "metadata": {
    "collapsed": false
   },
   "outputs": [
    {
     "name": "stdout",
     "output_type": "stream",
     "text": [
      "[]\n"
     ]
    }
   ],
   "source": [
    "print (a)"
   ]
  },
  {
   "cell_type": "code",
   "execution_count": 3,
   "metadata": {
    "collapsed": false
   },
   "outputs": [],
   "source": [
    "lowerLimit = 2\n",
    "upperLimit = 46\n",
    "a = [x*0.5 for x in range(2*lowerLimit,2*upperLimit+1)]"
   ]
  },
  {
   "cell_type": "code",
   "execution_count": 4,
   "metadata": {
    "collapsed": false,
    "scrolled": true
   },
   "outputs": [
    {
     "name": "stdout",
     "output_type": "stream",
     "text": [
      "[2.0, 2.5, 3.0, 3.5, 4.0, 4.5, 5.0, 5.5, 6.0, 6.5, 7.0, 7.5, 8.0, 8.5, 9.0, 9.5, 10.0, 10.5, 11.0, 11.5, 12.0, 12.5, 13.0, 13.5, 14.0, 14.5, 15.0, 15.5, 16.0, 16.5, 17.0, 17.5, 18.0, 18.5, 19.0, 19.5, 20.0, 20.5, 21.0, 21.5, 22.0, 22.5, 23.0, 23.5, 24.0, 24.5, 25.0, 25.5, 26.0, 26.5, 27.0, 27.5, 28.0, 28.5, 29.0, 29.5, 30.0, 30.5, 31.0, 31.5, 32.0, 32.5, 33.0, 33.5, 34.0, 34.5, 35.0, 35.5, 36.0, 36.5, 37.0, 37.5, 38.0, 38.5, 39.0, 39.5, 40.0, 40.5, 41.0, 41.5, 42.0, 42.5, 43.0, 43.5, 44.0, 44.5, 45.0, 45.5, 46.0]\n"
     ]
    }
   ],
   "source": [
    "print (a)"
   ]
  },
  {
   "cell_type": "code",
   "execution_count": 5,
   "metadata": {
    "collapsed": false
   },
   "outputs": [],
   "source": [
    "def double_evens(arr):\n",
    "    output = []\n",
    "    for i in arr:\n",
    "        if i%2 == 0:\n",
    "            output.append(i*2)\n",
    "        if i%2 != 0:\n",
    "            output.append(i)\n",
    "    return output"
   ]
  },
  {
   "cell_type": "code",
   "execution_count": 6,
   "metadata": {
    "collapsed": false,
    "scrolled": false
   },
   "outputs": [],
   "source": [
    "a = double_evens(a)\n"
   ]
  },
  {
   "cell_type": "code",
   "execution_count": 7,
   "metadata": {
    "collapsed": false,
    "scrolled": true
   },
   "outputs": [
    {
     "name": "stdout",
     "output_type": "stream",
     "text": [
      "[4.0, 2.5, 3.0, 3.5, 8.0, 4.5, 5.0, 5.5, 12.0, 6.5, 7.0, 7.5, 16.0, 8.5, 9.0, 9.5, 20.0, 10.5, 11.0, 11.5, 24.0, 12.5, 13.0, 13.5, 28.0, 14.5, 15.0, 15.5, 32.0, 16.5, 17.0, 17.5, 36.0, 18.5, 19.0, 19.5, 40.0, 20.5, 21.0, 21.5, 44.0, 22.5, 23.0, 23.5, 48.0, 24.5, 25.0, 25.5, 52.0, 26.5, 27.0, 27.5, 56.0, 28.5, 29.0, 29.5, 60.0, 30.5, 31.0, 31.5, 64.0, 32.5, 33.0, 33.5, 68.0, 34.5, 35.0, 35.5, 72.0, 36.5, 37.0, 37.5, 76.0, 38.5, 39.0, 39.5, 80.0, 40.5, 41.0, 41.5, 84.0, 42.5, 43.0, 43.5, 88.0, 44.5, 45.0, 45.5, 92.0]\n"
     ]
    }
   ],
   "source": [
    "print (a)"
   ]
  },
  {
   "cell_type": "code",
   "execution_count": 8,
   "metadata": {
    "collapsed": false
   },
   "outputs": [],
   "source": [
    "def add(arr):\n",
    "    total = 0\n",
    "    for i in arr:\n",
    "        total += i\n",
    "    return total\n"
   ]
  },
  {
   "cell_type": "code",
   "execution_count": 9,
   "metadata": {
    "collapsed": false
   },
   "outputs": [
    {
     "data": {
      "text/plain": [
       "2688.0"
      ]
     },
     "execution_count": 9,
     "metadata": {},
     "output_type": "execute_result"
    }
   ],
   "source": [
    "add(a)"
   ]
  },
  {
   "cell_type": "code",
   "execution_count": 10,
   "metadata": {
    "collapsed": false
   },
   "outputs": [
    {
     "data": {
      "text/plain": [
       "2643.5"
      ]
     },
     "execution_count": 10,
     "metadata": {},
     "output_type": "execute_result"
    }
   ],
   "source": [
    "add(a)-a[31]-a[50]"
   ]
  },
  {
   "cell_type": "code",
   "execution_count": 11,
   "metadata": {
    "collapsed": false
   },
   "outputs": [
    {
     "data": {
      "text/plain": [
       "2643.5"
      ]
     },
     "execution_count": 11,
     "metadata": {},
     "output_type": "execute_result"
    }
   ],
   "source": [
    "sum(a)-a[31]-a[50]"
   ]
  },
  {
   "cell_type": "code",
   "execution_count": 12,
   "metadata": {
    "collapsed": true
   },
   "outputs": [],
   "source": [
    "def mean(arr):\n",
    "    average = sum(arr)/len(arr)\n",
    "    return average"
   ]
  },
  {
   "cell_type": "code",
   "execution_count": 13,
   "metadata": {
    "collapsed": false
   },
   "outputs": [
    {
     "data": {
      "text/plain": [
       "30.202247191011235"
      ]
     },
     "execution_count": 13,
     "metadata": {},
     "output_type": "execute_result"
    }
   ],
   "source": [
    "mean(a)"
   ]
  },
  {
   "cell_type": "code",
   "execution_count": 14,
   "metadata": {
    "collapsed": false
   },
   "outputs": [],
   "source": [
    "def get_halves(arr):\n",
    "    output = []\n",
    "    for i in arr:\n",
    "        if str(i-int(i)) == '0.5':\n",
    "            output.append(i)\n",
    "    return output"
   ]
  },
  {
   "cell_type": "code",
   "execution_count": 15,
   "metadata": {
    "collapsed": true
   },
   "outputs": [],
   "source": [
    "def get_integers(arr):\n",
    "    output = []\n",
    "    for i in arr:\n",
    "        if str(i-int(i)) == '0.0':\n",
    "            output.append(i)\n",
    "    return output"
   ]
  },
  {
   "cell_type": "code",
   "execution_count": 16,
   "metadata": {
    "collapsed": false
   },
   "outputs": [],
   "source": [
    "a_half = get_halves(a)"
   ]
  },
  {
   "cell_type": "code",
   "execution_count": 17,
   "metadata": {
    "collapsed": false,
    "scrolled": true
   },
   "outputs": [
    {
     "name": "stdout",
     "output_type": "stream",
     "text": [
      "[2.5, 3.5, 4.5, 5.5, 6.5, 7.5, 8.5, 9.5, 10.5, 11.5, 12.5, 13.5, 14.5, 15.5, 16.5, 17.5, 18.5, 19.5, 20.5, 21.5, 22.5, 23.5, 24.5, 25.5, 26.5, 27.5, 28.5, 29.5, 30.5, 31.5, 32.5, 33.5, 34.5, 35.5, 36.5, 37.5, 38.5, 39.5, 40.5, 41.5, 42.5, 43.5, 44.5, 45.5]\n"
     ]
    }
   ],
   "source": [
    "print (a_half)"
   ]
  },
  {
   "cell_type": "code",
   "execution_count": 18,
   "metadata": {
    "collapsed": true
   },
   "outputs": [],
   "source": [
    "def sort_halves(arr):\n",
    "    output1 = []\n",
    "    output2 = []\n",
    "    for i in arr:\n",
    "        if str(i-int(i)) == '0.5':\n",
    "            output2.append(i)\n",
    "        if str(i-int(i)) == '0.0':\n",
    "            output1.append(i)\n",
    "    return output1 + output2"
   ]
  },
  {
   "cell_type": "code",
   "execution_count": 19,
   "metadata": {
    "collapsed": false,
    "scrolled": true
   },
   "outputs": [
    {
     "name": "stdout",
     "output_type": "stream",
     "text": [
      "[4.0, 3.0, 8.0, 5.0, 12.0, 7.0, 16.0, 9.0, 20.0, 11.0, 24.0, 13.0, 28.0, 15.0, 32.0, 17.0, 36.0, 19.0, 40.0, 21.0, 44.0, 23.0, 48.0, 25.0, 52.0, 27.0, 56.0, 29.0, 60.0, 31.0, 64.0, 33.0, 68.0, 35.0, 72.0, 37.0, 76.0, 39.0, 80.0, 41.0, 84.0, 43.0, 88.0, 45.0, 92.0, 2.5, 3.5, 4.5, 5.5, 6.5, 7.5, 8.5, 9.5, 10.5, 11.5, 12.5, 13.5, 14.5, 15.5, 16.5, 17.5, 18.5, 19.5, 20.5, 21.5, 22.5, 23.5, 24.5, 25.5, 26.5, 27.5, 28.5, 29.5, 30.5, 31.5, 32.5, 33.5, 34.5, 35.5, 36.5, 37.5, 38.5, 39.5, 40.5, 41.5, 42.5, 43.5, 44.5, 45.5]\n"
     ]
    }
   ],
   "source": [
    "a = sort_halves(a)\n",
    "print (a)"
   ]
  },
  {
   "cell_type": "code",
   "execution_count": 20,
   "metadata": {
    "collapsed": false
   },
   "outputs": [
    {
     "name": "stdout",
     "output_type": "stream",
     "text": [
      "[4.0, 12.0, 20.0, 28.0, 36.0, 44.0, 52.0, 60.0, 68.0, 76.0, 84.0, 92.0, 5.5, 9.5, 13.5, 17.5, 21.5, 25.5, 29.5, 33.5, 37.5, 41.5, 45.5]\n"
     ]
    }
   ],
   "source": [
    "print (a[0::4])"
   ]
  },
  {
   "cell_type": "code",
   "execution_count": 21,
   "metadata": {
    "collapsed": false
   },
   "outputs": [
    {
     "data": {
      "text/plain": [
       "44"
      ]
     },
     "execution_count": 21,
     "metadata": {},
     "output_type": "execute_result"
    }
   ],
   "source": [
    "len(get_halves(a))"
   ]
  },
  {
   "cell_type": "code",
   "execution_count": 22,
   "metadata": {
    "collapsed": false
   },
   "outputs": [
    {
     "data": {
      "text/plain": [
       "45"
      ]
     },
     "execution_count": 22,
     "metadata": {},
     "output_type": "execute_result"
    }
   ],
   "source": [
    "len(get_integers(a))"
   ]
  },
  {
   "cell_type": "markdown",
   "metadata": {},
   "source": [
    "## Problem 2"
   ]
  },
  {
   "cell_type": "code",
   "execution_count": 23,
   "metadata": {
    "collapsed": true
   },
   "outputs": [],
   "source": [
    "b = []"
   ]
  },
  {
   "cell_type": "code",
   "execution_count": 24,
   "metadata": {
    "collapsed": false
   },
   "outputs": [],
   "source": [
    "sentence = \"I am so excited about Data-X. I feel it is important to be able to work with data.\".strip(\".\")"
   ]
  },
  {
   "cell_type": "code",
   "execution_count": 25,
   "metadata": {
    "collapsed": false
   },
   "outputs": [
    {
     "name": "stdout",
     "output_type": "stream",
     "text": [
      "['I', 'am', 'so', 'excited', 'about', 'Data-X.', 'I', 'feel', 'it', 'is', 'important', 'to', 'be', 'able', 'to', 'work', 'with', 'data']\n"
     ]
    }
   ],
   "source": [
    "b = sentence.split() \n",
    "print (b)"
   ]
  },
  {
   "cell_type": "code",
   "execution_count": 26,
   "metadata": {
    "collapsed": false
   },
   "outputs": [],
   "source": [
    "def letter_count(word, letter):\n",
    "    occurences=0\n",
    "    for i in word:\n",
    "        occurences += i.count(letter)\n",
    "    return occurences"
   ]
  },
  {
   "cell_type": "code",
   "execution_count": 27,
   "metadata": {
    "collapsed": false,
    "scrolled": true
   },
   "outputs": [
    {
     "data": {
      "text/plain": [
       "6"
      ]
     },
     "execution_count": 27,
     "metadata": {},
     "output_type": "execute_result"
    }
   ],
   "source": [
    "letter_count(b,'e')"
   ]
  },
  {
   "cell_type": "code",
   "execution_count": 28,
   "metadata": {
    "collapsed": false
   },
   "outputs": [
    {
     "name": "stdout",
     "output_type": "stream",
     "text": [
      "['1', 'am', 'so', 'exc1ted', 'about', 'Data-X.', '1', 'feel', '1t', '1s', '1mportant', 'to', 'be', 'able', 'to', 'work', 'w1th', 'data']\n"
     ]
    }
   ],
   "source": [
    "b = [i.replace('i', '1').replace('I', '1') for i in b ]\n",
    "print (b)\n"
   ]
  },
  {
   "cell_type": "code",
   "execution_count": 29,
   "metadata": {
    "collapsed": false
   },
   "outputs": [
    {
     "name": "stdout",
     "output_type": "stream",
     "text": [
      "['1', 'am', 'so', 'exc1ted', 'about', 'Data-X.', '1', 'feel', '1t', '1s', '1mportant', 'to', 'be', 'able', 'to', 'work', 'w1th', 'data', 'This', 'is', 'the', 'end', 'of', 'the', 'first', 'HW']\n"
     ]
    }
   ],
   "source": [
    "b = b + \"This is the end of the first HW\".split()\n",
    "print (b)"
   ]
  },
  {
   "cell_type": "code",
   "execution_count": 30,
   "metadata": {
    "collapsed": false,
    "scrolled": true
   },
   "outputs": [
    {
     "name": "stdout",
     "output_type": "stream",
     "text": [
      "['1', 'ma', 'os', 'det1cxe', 'tuoba', '.X-ataD', '1', 'leef', 't1', 's1', 'tnatropm1', 'ot', 'eb', 'elba', 'ot', 'krow', 'ht1w', 'atad', 'sihT', 'si', 'eht', 'dne', 'fo', 'eht', 'tsrif', 'WH']\n"
     ]
    }
   ],
   "source": [
    "\n",
    "b = [ i[::-1] for i in b]\n",
    "print (b)\n"
   ]
  },
  {
   "cell_type": "code",
   "execution_count": 31,
   "metadata": {
    "collapsed": false
   },
   "outputs": [
    {
     "name": "stdout",
     "output_type": "stream",
     "text": [
      "['1 ma os det1cxe tuoba .X-ataD 1 leef t1 s1 tnatropm1 ot eb elba ot krow ht1w atad sihT si eht dne fo eht tsrif WH']\n"
     ]
    }
   ],
   "source": [
    "b = [\" \".join(b)]\n",
    "print (b)"
   ]
  },
  {
   "cell_type": "code",
   "execution_count": 32,
   "metadata": {
    "collapsed": false
   },
   "outputs": [
    {
     "name": "stdout",
     "output_type": "stream",
     "text": [
      "['WH tsrif eht fo dne eht si sihT atad ht1w krow ot elba eb ot tnatropm1 s1 t1 leef 1 .X-ataD tuoba det1cxe os ma 1']\n"
     ]
    }
   ],
   "source": [
    "b = b[0].split()\n",
    "b = [\" \".join(reversed(b))]\n",
    "print (b)\n"
   ]
  }
 ],
 "metadata": {
  "anaconda-cloud": {},
  "kernelspec": {
   "display_name": "Python 3",
   "language": "python",
   "name": "python3"
  },
  "language_info": {
   "codemirror_mode": {
    "name": "ipython",
    "version": 3
   },
   "file_extension": ".py",
   "mimetype": "text/x-python",
   "name": "python",
   "nbconvert_exporter": "python",
   "pygments_lexer": "ipython3",
   "version": "3.5.2"
  }
 },
 "nbformat": 4,
 "nbformat_minor": 1
}
